{
  "nbformat": 4,
  "nbformat_minor": 0,
  "metadata": {
    "colab": {
      "name": "FourierPositionalEncoding.ipynb",
      "provenance": [],
      "authorship_tag": "ABX9TyP7cZcSF4SFipfhB9iUnbp5"
    },
    "kernelspec": {
      "name": "python3",
      "display_name": "Python 3"
    },
    "language_info": {
      "name": "python"
    }
  },
  "cells": [
    {
      "cell_type": "code",
      "metadata": {
        "id": "3JRlv5NNu82R"
      },
      "source": [
        "#I'm not sure why people makes their Fourier Positional Encoding so complicate and I'm not sure they are right. So here is my own version\n",
        "\n",
        "%%capture\n",
        "!pip install einops"
      ],
      "execution_count": 2,
      "outputs": []
    },
    {
      "cell_type": "code",
      "metadata": {
        "id": "5kAZU_oRwV8t"
      },
      "source": [
        "from torchvision.io import read_image\n",
        "from einops import rearrange\n",
        "import torch\n",
        "import math"
      ],
      "execution_count": 3,
      "outputs": []
    },
    {
      "cell_type": "code",
      "metadata": {
        "colab": {
          "base_uri": "https://localhost:8080/"
        },
        "id": "QqKptW_gvVKu",
        "outputId": "b1e98529-85ba-477f-e950-99f79d2b8204"
      },
      "source": [
        "im = read_image('/content/224_224_image.jpg')\n",
        "print('image size:',im.size())"
      ],
      "execution_count": 56,
      "outputs": [
        {
          "output_type": "stream",
          "text": [
            "image size: torch.Size([3, 224, 224])\n"
          ],
          "name": "stdout"
        }
      ]
    },
    {
      "cell_type": "code",
      "metadata": {
        "colab": {
          "base_uri": "https://localhost:8080/"
        },
        "id": "iCdzIlRowB1b",
        "outputId": "3b29ffb5-ee8c-4257-e31b-964da97301e5"
      },
      "source": [
        "# Flatten the image from a 3 dimension to 2 dimension\n",
        "flatten_im = rearrange(im,'c h w -> c (h w)')\n",
        "print('flatten image size:',flatten_im.size())"
      ],
      "execution_count": 57,
      "outputs": [
        {
          "output_type": "stream",
          "text": [
            "flatten image size: torch.Size([3, 50176])\n"
          ],
          "name": "stdout"
        }
      ]
    },
    {
      "cell_type": "code",
      "metadata": {
        "id": "o0-vA0csvZGK"
      },
      "source": [
        "# Copy each image channel\n",
        "x1 = flatten_im[0]\n",
        "x2 = flatten_im[1]\n",
        "x3 = flatten_im[2]"
      ],
      "execution_count": 58,
      "outputs": []
    },
    {
      "cell_type": "code",
      "metadata": {
        "id": "haHIe4pFvZxa"
      },
      "source": [
        "# create a function to normalise the image array between -1 and 1\n",
        "def normalisation(x):\n",
        "  x =  x/x.sum(0).expand_as(x) \n",
        "  x[torch.isnan(x)]=0   #if an entire column is zero, division by 0 will cause NaNs\n",
        "  x = 2*x - 1\n",
        "  return x"
      ],
      "execution_count": 59,
      "outputs": []
    },
    {
      "cell_type": "code",
      "metadata": {
        "id": "OVXN_m6HxCne"
      },
      "source": [
        "#Normalise each channel\n",
        "x1 = normalisation(x1)\n",
        "x2 = normalisation(x2)\n",
        "x3 = normalisation(x3)"
      ],
      "execution_count": 60,
      "outputs": []
    },
    {
      "cell_type": "code",
      "metadata": {
        "id": "kzFiba5D2S-S"
      },
      "source": [
        "#Put all channel back together\n",
        "normalised_image = torch.cat((x1,x2,x3),dim=0).view(3,-1)"
      ],
      "execution_count": 61,
      "outputs": []
    },
    {
      "cell_type": "code",
      "metadata": {
        "id": "vK_wYlT2xF6M"
      },
      "source": [
        "#create a log splace tensor between 1 and pi/2\n",
        "fk_sin = torch.logspace(start=1, end=0.5*math.pi, steps=7, base=2)\n",
        "fk_cos = torch.logspace(start=1, end=0.5*math.pi, steps=7, base=2)\n",
        "pe = torch.zeros(3,224*224,7*2+1)"
      ],
      "execution_count": 73,
      "outputs": []
    },
    {
      "cell_type": "code",
      "metadata": {
        "id": "qCcnsUzpxJLM"
      },
      "source": [
        "# Create a fourier positional encoding\n",
        "for j in range(2):\n",
        "  for i in range(len(normalised_image[j])):\n",
        "    x = normalised_image[j][i]\n",
        "    sin = torch.sin(math.pi*x*fk_sin)\n",
        "    cos = torch.cos(math.pi*x*fk_cos)\n",
        "    fk = torch.cat((sin,cos))\n",
        "    fk_ = fk.tolist()\n",
        "    fk_.append(x.item())\n",
        "    fk = torch.tensor(fk_)\n",
        "    pe[j][i]=fk"
      ],
      "execution_count": 79,
      "outputs": []
    },
    {
      "cell_type": "code",
      "metadata": {
        "colab": {
          "base_uri": "https://localhost:8080/"
        },
        "id": "BCNP1vsVzNxQ",
        "outputId": "3f5faf10-670d-41e9-8b35-e8a18ba68451"
      },
      "source": [
        "pe.size()"
      ],
      "execution_count": 80,
      "outputs": [
        {
          "output_type": "execute_result",
          "data": {
            "text/plain": [
              "torch.Size([3, 50176, 15])"
            ]
          },
          "metadata": {
            "tags": []
          },
          "execution_count": 80
        }
      ]
    },
    {
      "cell_type": "code",
      "metadata": {
        "colab": {
          "base_uri": "https://localhost:8080/"
        },
        "id": "PRMJQ01-A0ZQ",
        "outputId": "5486b7fc-4aee-4330-f112-14d5143d9d85"
      },
      "source": [
        "#Explaination:\n",
        "#dth dimension: 0\n",
        "d0 = pe[0]\n",
        "# Along this dimension, there are 50176 inputs, which is equivalent to the flatten image array of 224 x 224\n",
        "print('Number of inputs in each dimension: ',d0.size(0))\n",
        "# Within each input, there are 15 values, these 15 values corresponds to 2K + 1. Where K is the number of bands. In this example, a value of 7 was used. The reason you times K by 2 is because\n",
        "#you need to calculate the cos and sin value for each band frequency. You add 1 to the end because you need to concat the normalised input with the 14 fourier values (7*2+1 = 15)\n",
        "print('Number of positional encoding values for each input:',d0.size(1))"
      ],
      "execution_count": 86,
      "outputs": [
        {
          "output_type": "stream",
          "text": [
            "Number of inputs in each dimension:  50176\n",
            "Number of positional encoding values for each input: 15\n"
          ],
          "name": "stdout"
        }
      ]
    }
  ]
}
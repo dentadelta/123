{
 "cells": [
  {
   "cell_type": "code",
   "execution_count": 187,
   "id": "118901ed",
   "metadata": {},
   "outputs": [],
   "source": [
    "import torch\n",
    "import torch.nn as nn\n",
    "import pandas as pd"
   ]
  },
  {
   "cell_type": "markdown",
   "id": "efedea93",
   "metadata": {},
   "source": [
    "# Abstraction Level 0"
   ]
  },
  {
   "cell_type": "code",
   "execution_count": 168,
   "id": "528c3415",
   "metadata": {},
   "outputs": [
    {
     "data": {
      "text/plain": [
       "LSTM(4, 4, num_layers=4, batch_first=True)"
      ]
     },
     "execution_count": 168,
     "metadata": {},
     "output_type": "execute_result"
    }
   ],
   "source": [
    "component = nn.LSTM(input_size=4,hidden_size=4,num_layers=4,batch_first=True)\n",
    "loss_function = torch.nn.MSELoss()\n",
    "optimizer = torch.optim.AdamW(component.parameters(), lr=0.02)\n",
    "component.train()"
   ]
  },
  {
   "cell_type": "code",
   "execution_count": 169,
   "id": "ddc22de9",
   "metadata": {},
   "outputs": [],
   "source": [
    "cs1= 0\n",
    "cs2 = 0.8\n",
    "cs3 = 0.1\n",
    "cs4 = 0.1\n",
    "previous_condition_state = torch.tensor([[cs1,cs2,cs3,cs4]])"
   ]
  },
  {
   "cell_type": "code",
   "execution_count": 170,
   "id": "a70246af",
   "metadata": {},
   "outputs": [],
   "source": [
    "predicted_condition_state, (longterm,shorterm) = component(previous_condition_state)"
   ]
  },
  {
   "cell_type": "code",
   "execution_count": 171,
   "id": "ff50e35b",
   "metadata": {},
   "outputs": [
    {
     "name": "stdout",
     "output_type": "stream",
     "text": [
      "predicted_condition_state:\n",
      " tensor([[ 0.0591, -0.1569,  0.0081,  0.1124]], grad_fn=<SqueezeBackward1>) \n",
      "\n",
      "Shorterm:\n",
      " tensor([[-0.4282, -0.1888,  0.2147,  0.3445],\n",
      "        [-0.0771, -0.1660, -0.4031,  0.0725],\n",
      "        [-0.0911,  0.1581, -0.0744,  0.1901],\n",
      "        [ 0.1808, -0.2432,  0.0146,  0.2261]], grad_fn=<SqueezeBackward1>) \n",
      "\n",
      "Longterm:\n",
      " tensor([[-0.2487, -0.1121,  0.0847,  0.1362],\n",
      "        [-0.0310, -0.0793, -0.1935,  0.0317],\n",
      "        [-0.0517,  0.1025, -0.0402,  0.0994],\n",
      "        [ 0.0591, -0.1569,  0.0081,  0.1124]], grad_fn=<SqueezeBackward1>)\n"
     ]
    }
   ],
   "source": [
    "print('predicted_condition_state:\\n',predicted_condition_state, '\\n\\nShorterm:\\n',shorterm,'\\n\\nLongterm:\\n',longterm)"
   ]
  },
  {
   "cell_type": "code",
   "execution_count": 172,
   "id": "2e61c12f",
   "metadata": {},
   "outputs": [
    {
     "name": "stdout",
     "output_type": "stream",
     "text": [
      "previous condition state: tensor([[0.0000, 0.8000, 0.1000, 0.1000]])\n",
      "predicted condition state: tensor([[ 0.0591, -0.1569,  0.0081,  0.1124]], grad_fn=<SqueezeBackward1>)\n",
      "actual condtion state: tensor([[0.0000, 0.7000, 0.2000, 0.1000]])\n"
     ]
    }
   ],
   "source": [
    "# Next stage:\n",
    "cs1= 0\n",
    "cs2 = 0.7\n",
    "cs3 = 0.2\n",
    "cs4 = 0.1\n",
    "actual_condition_state = torch.tensor([[cs1,cs2,cs3,cs4]])\n",
    "print('previous condition state:',previous_condition_state)\n",
    "print('predicted condition state:',predicted_condition_state)\n",
    "print('actual condtion state:',actual_condition_state)"
   ]
  },
  {
   "cell_type": "code",
   "execution_count": 173,
   "id": "7c69fcd7",
   "metadata": {},
   "outputs": [],
   "source": [
    "loss = loss_function(predicted_condition_state,actual_condition_state)"
   ]
  },
  {
   "cell_type": "code",
   "execution_count": 174,
   "id": "ea9583eb",
   "metadata": {},
   "outputs": [
    {
     "name": "stdout",
     "output_type": "stream",
     "text": [
      "0.19367893040180206\n"
     ]
    }
   ],
   "source": [
    "print(loss.item())"
   ]
  },
  {
   "cell_type": "code",
   "execution_count": 175,
   "id": "b2f3ff39",
   "metadata": {},
   "outputs": [],
   "source": [
    "optimizer.zero_grad()\n",
    "loss.backward()\n",
    "optimizer.step()"
   ]
  },
  {
   "cell_type": "code",
   "execution_count": 176,
   "id": "19623240",
   "metadata": {},
   "outputs": [],
   "source": [
    "# model_predict_next_state\n",
    "predicted_condition_state,(longterm,shorterm) = component(actual_condition_state,\n",
    "                                                          (longterm.detach(),shorterm.detach()))"
   ]
  },
  {
   "cell_type": "code",
   "execution_count": 177,
   "id": "a978467b",
   "metadata": {},
   "outputs": [
    {
     "name": "stdout",
     "output_type": "stream",
     "text": [
      "previous condition state: tensor([[0.0000, 0.7000, 0.2000, 0.1000]])\n",
      "predicted condition state: tensor([[ 0.0885, -0.1925,  0.0589,  0.1280]], grad_fn=<SqueezeBackward1>)\n",
      "actual condtion state: tensor([[0.0000, 0.6000, 0.2000, 0.2000]])\n"
     ]
    }
   ],
   "source": [
    "# Next stage:\n",
    "cs1= 0\n",
    "cs2 = 0.6\n",
    "cs3 = 0.2\n",
    "cs4 = 0.2\n",
    "previous_condition_state = actual_condition_state\n",
    "actual_condition_state = torch.tensor([[cs1,cs2,cs3,cs4]])\n",
    "print('previous condition state:',previous_condition_state)\n",
    "print('predicted condition state:',predicted_condition_state)\n",
    "print('actual condtion state:',actual_condition_state)"
   ]
  },
  {
   "cell_type": "code",
   "execution_count": 178,
   "id": "2a1f88e2",
   "metadata": {},
   "outputs": [],
   "source": [
    "loss = loss_function(predicted_condition_state,actual_condition_state)"
   ]
  },
  {
   "cell_type": "code",
   "execution_count": 179,
   "id": "1d9e4371",
   "metadata": {},
   "outputs": [
    {
     "name": "stdout",
     "output_type": "stream",
     "text": [
      "0.16524168848991394\n"
     ]
    }
   ],
   "source": [
    "print(loss.item())"
   ]
  },
  {
   "cell_type": "code",
   "execution_count": 166,
   "id": "960ca064",
   "metadata": {},
   "outputs": [],
   "source": [
    "optimizer.zero_grad()\n",
    "loss.backward(retain_graph=True)\n",
    "optimizer.step()"
   ]
  },
  {
   "cell_type": "code",
   "execution_count": 180,
   "id": "5c56fe90",
   "metadata": {},
   "outputs": [],
   "source": [
    "# model_predict_next_state\n",
    "predicted_condition_state,(longterm,shorterm) = component(actual_condition_state,\n",
    "                                                          (longterm.detach(),shorterm.detach()))"
   ]
  },
  {
   "cell_type": "code",
   "execution_count": 181,
   "id": "b48ee671",
   "metadata": {},
   "outputs": [
    {
     "name": "stdout",
     "output_type": "stream",
     "text": [
      "previous condition state: tensor([[0.0000, 0.6000, 0.2000, 0.2000]])\n",
      "predicted condition state: tensor([[ 0.1094, -0.2013,  0.0812,  0.1329]], grad_fn=<SqueezeBackward1>)\n",
      "actual condtion state: tensor([[0.0000, 0.5000, 0.2000, 0.3000]])\n"
     ]
    }
   ],
   "source": [
    "# Next stage:\n",
    "cs1= 0\n",
    "cs2 = 0.5\n",
    "cs3 = 0.2\n",
    "cs4 = 0.3\n",
    "previous_condition_state = actual_condition_state\n",
    "actual_condition_state = torch.tensor([[cs1,cs2,cs3,cs4]])\n",
    "print('previous condition state:',previous_condition_state)\n",
    "print('predicted condition state:',predicted_condition_state)\n",
    "print('actual condtion state:',actual_condition_state)"
   ]
  },
  {
   "cell_type": "code",
   "execution_count": 182,
   "id": "eac583e3",
   "metadata": {},
   "outputs": [],
   "source": [
    "loss = loss_function(predicted_condition_state,actual_condition_state)"
   ]
  },
  {
   "cell_type": "code",
   "execution_count": 183,
   "id": "f551bdc2",
   "metadata": {},
   "outputs": [
    {
     "name": "stdout",
     "output_type": "stream",
     "text": [
      "0.13644912838935852\n"
     ]
    }
   ],
   "source": [
    "print(loss.item())"
   ]
  },
  {
   "cell_type": "code",
   "execution_count": 184,
   "id": "44602b24",
   "metadata": {},
   "outputs": [],
   "source": [
    "optimizer.zero_grad()\n",
    "loss.backward(retain_graph=True)\n",
    "optimizer.step()"
   ]
  },
  {
   "cell_type": "markdown",
   "id": "d181413e",
   "metadata": {},
   "source": [
    "# Generalisation at Component Level"
   ]
  },
  {
   "cell_type": "code",
   "execution_count": 204,
   "id": "db5fccee",
   "metadata": {},
   "outputs": [],
   "source": [
    "row_1 = {'current_state': [0,0.8,0.1,0.1], 'next_state': [0,0.7,0.2,0.1]}\n",
    "row_2 = {'current_state': [0,0.7,0.2,0.1], 'next_state': [0,0.6,0.2,0.2]}\n",
    "row_3 = {'current_state': [0,0.6,0.2,0.2], 'next_state': [0,0.5,0.2,0.3]}\n",
    "row_4 = {'current_state': [0,0.5,0.2,0.3], 'next_state': [0,0.4,0.3,0.3]}\n",
    "row_5 = {'current_state': [0,0.4,0.3,0.3], 'next_state': [0,0.2,0.3,0.5]}\n",
    "data = [row_1,row_2,row_3,row_4,row_5]"
   ]
  },
  {
   "cell_type": "code",
   "execution_count": 205,
   "id": "cf101ed5",
   "metadata": {},
   "outputs": [],
   "source": [
    "df = pd.DataFrame(data)"
   ]
  },
  {
   "cell_type": "code",
   "execution_count": 206,
   "id": "e8767d69",
   "metadata": {
    "scrolled": true
   },
   "outputs": [
    {
     "data": {
      "text/html": [
       "<div>\n",
       "<style scoped>\n",
       "    .dataframe tbody tr th:only-of-type {\n",
       "        vertical-align: middle;\n",
       "    }\n",
       "\n",
       "    .dataframe tbody tr th {\n",
       "        vertical-align: top;\n",
       "    }\n",
       "\n",
       "    .dataframe thead th {\n",
       "        text-align: right;\n",
       "    }\n",
       "</style>\n",
       "<table border=\"1\" class=\"dataframe\">\n",
       "  <thead>\n",
       "    <tr style=\"text-align: right;\">\n",
       "      <th></th>\n",
       "      <th>current_state</th>\n",
       "      <th>next_state</th>\n",
       "    </tr>\n",
       "  </thead>\n",
       "  <tbody>\n",
       "    <tr>\n",
       "      <th>0</th>\n",
       "      <td>[0, 0.8, 0.1, 0.1]</td>\n",
       "      <td>[0, 0.7, 0.2, 0.1]</td>\n",
       "    </tr>\n",
       "    <tr>\n",
       "      <th>1</th>\n",
       "      <td>[0, 0.7, 0.2, 0.1]</td>\n",
       "      <td>[0, 0.6, 0.2, 0.2]</td>\n",
       "    </tr>\n",
       "    <tr>\n",
       "      <th>2</th>\n",
       "      <td>[0, 0.6, 0.2, 0.2]</td>\n",
       "      <td>[0, 0.5, 0.2, 0.3]</td>\n",
       "    </tr>\n",
       "    <tr>\n",
       "      <th>3</th>\n",
       "      <td>[0, 0.5, 0.2, 0.3]</td>\n",
       "      <td>[0, 0.4, 0.3, 0.3]</td>\n",
       "    </tr>\n",
       "    <tr>\n",
       "      <th>4</th>\n",
       "      <td>[0, 0.4, 0.3, 0.3]</td>\n",
       "      <td>[0, 0.2, 0.3, 0.5]</td>\n",
       "    </tr>\n",
       "  </tbody>\n",
       "</table>\n",
       "</div>"
      ],
      "text/plain": [
       "        current_state          next_state\n",
       "0  [0, 0.8, 0.1, 0.1]  [0, 0.7, 0.2, 0.1]\n",
       "1  [0, 0.7, 0.2, 0.1]  [0, 0.6, 0.2, 0.2]\n",
       "2  [0, 0.6, 0.2, 0.2]  [0, 0.5, 0.2, 0.3]\n",
       "3  [0, 0.5, 0.2, 0.3]  [0, 0.4, 0.3, 0.3]\n",
       "4  [0, 0.4, 0.3, 0.3]  [0, 0.2, 0.3, 0.5]"
      ]
     },
     "execution_count": 206,
     "metadata": {},
     "output_type": "execute_result"
    }
   ],
   "source": [
    "df"
   ]
  },
  {
   "cell_type": "code",
   "execution_count": 207,
   "id": "4f8f2dc3",
   "metadata": {},
   "outputs": [
    {
     "data": {
      "text/plain": [
       "LSTM(4, 4, num_layers=4, batch_first=True)"
      ]
     },
     "execution_count": 207,
     "metadata": {},
     "output_type": "execute_result"
    }
   ],
   "source": [
    "component = nn.LSTM(input_size=4,hidden_size=4,num_layers=4,batch_first=True)\n",
    "loss_function = torch.nn.MSELoss()\n",
    "optimizer = torch.optim.AdamW(component.parameters(), lr=0.02)\n",
    "component.train()"
   ]
  },
  {
   "cell_type": "code",
   "execution_count": 208,
   "id": "5f7b5847",
   "metadata": {},
   "outputs": [
    {
     "name": "stdout",
     "output_type": "stream",
     "text": [
      "training_step 1 ;loss: 0.13 \n",
      "\n",
      "training_step 2 ;loss: 0.106 \n",
      "\n",
      "training_step 3 ;loss: 0.088 \n",
      "\n",
      "training_step 4 ;loss: 0.061 \n",
      "\n",
      "training_step 5 ;loss: 0.061 \n",
      "\n",
      "training_step 6 ;loss: 0.107 \n",
      "\n",
      "training_step 7 ;loss: 0.072 \n",
      "\n",
      "training_step 8 ;loss: 0.046 \n",
      "\n",
      "training_step 9 ;loss: 0.018 \n",
      "\n",
      "training_step 10 ;loss: 0.021 \n",
      "\n",
      "training_step 11 ;loss: 0.058 \n",
      "\n",
      "training_step 12 ;loss: 0.025 \n",
      "\n",
      "training_step 13 ;loss: 0.006 \n",
      "\n",
      "training_step 14 ;loss: 0.002 \n",
      "\n",
      "training_step 15 ;loss: 0.024 \n",
      "\n"
     ]
    }
   ],
   "source": [
    "step = 0\n",
    "for epoch in range(3):\n",
    "    for i,r in df.iterrows():\n",
    "        inputs = torch.tensor([r['current_state']])\n",
    "        target = torch.tensor([r['next_state']])\n",
    "        if step == 0:\n",
    "            prediction, (long_term,short_term) = component(inputs)\n",
    "        else:\n",
    "            prediction, (long_term,short_term) = component(inputs,(long_term.detach(),short_term.detach()))\n",
    "        loss = loss_function(prediction,target)\n",
    "        optimizer.zero_grad()\n",
    "        loss.backward()\n",
    "        optimizer.step()\n",
    "        loss_value = round(loss.item(),3)\n",
    "        step += 1\n",
    "        print('training_step',step,';loss:',loss_value,'\\n')"
   ]
  },
  {
   "cell_type": "code",
   "execution_count": 212,
   "id": "148a1582",
   "metadata": {},
   "outputs": [],
   "source": [
    "# Save model\n",
    "torch.save(component.state_dict(),'component_type_A.pth')"
   ]
  },
  {
   "cell_type": "code",
   "execution_count": 226,
   "id": "3aaf4d7b",
   "metadata": {},
   "outputs": [],
   "source": [
    "# Save the long_term and short_term separately:\n",
    "row1 = {'City': '13E',\n",
    "        'S': 123, \n",
    "        'G':'A1', \n",
    "        'Component':'A50',\n",
    "        'latest_condition':inputs.detach().numpy(),\n",
    "        'saved_model_path': 'component_type_A.pth',\n",
    "        'long_term_memory':long_term.detach().numpy(),\n",
    "        'short_term_memory':short_term.detach().numpy()}\n",
    "simulation_data = pd.DataFrame([row1])"
   ]
  },
  {
   "cell_type": "code",
   "execution_count": 227,
   "id": "4e09f98e",
   "metadata": {
    "scrolled": true
   },
   "outputs": [
    {
     "data": {
      "text/html": [
       "<div>\n",
       "<style scoped>\n",
       "    .dataframe tbody tr th:only-of-type {\n",
       "        vertical-align: middle;\n",
       "    }\n",
       "\n",
       "    .dataframe tbody tr th {\n",
       "        vertical-align: top;\n",
       "    }\n",
       "\n",
       "    .dataframe thead th {\n",
       "        text-align: right;\n",
       "    }\n",
       "</style>\n",
       "<table border=\"1\" class=\"dataframe\">\n",
       "  <thead>\n",
       "    <tr style=\"text-align: right;\">\n",
       "      <th></th>\n",
       "      <th>City</th>\n",
       "      <th>S</th>\n",
       "      <th>G</th>\n",
       "      <th>Component</th>\n",
       "      <th>latest_condition</th>\n",
       "      <th>saved_model_path</th>\n",
       "      <th>long_term_memory</th>\n",
       "      <th>short_term_memory</th>\n",
       "    </tr>\n",
       "  </thead>\n",
       "  <tbody>\n",
       "    <tr>\n",
       "      <th>0</th>\n",
       "      <td>13E</td>\n",
       "      <td>123</td>\n",
       "      <td>A1</td>\n",
       "      <td>A50</td>\n",
       "      <td>[[0.0, 0.4, 0.3, 0.3]]</td>\n",
       "      <td>component_type_A.pth</td>\n",
       "      <td>[[0.3730696, -0.076551, 0.52359045, -0.0314048...</td>\n",
       "      <td>[[0.88893974, -0.26120937, 1.2495234, -0.09117...</td>\n",
       "    </tr>\n",
       "  </tbody>\n",
       "</table>\n",
       "</div>"
      ],
      "text/plain": [
       "  City    S   G Component        latest_condition      saved_model_path  \\\n",
       "0  13E  123  A1       A50  [[0.0, 0.4, 0.3, 0.3]]  component_type_A.pth   \n",
       "\n",
       "                                    long_term_memory  \\\n",
       "0  [[0.3730696, -0.076551, 0.52359045, -0.0314048...   \n",
       "\n",
       "                                   short_term_memory  \n",
       "0  [[0.88893974, -0.26120937, 1.2495234, -0.09117...  "
      ]
     },
     "execution_count": 227,
     "metadata": {},
     "output_type": "execute_result"
    }
   ],
   "source": [
    "simulation_data"
   ]
  },
  {
   "cell_type": "markdown",
   "id": "62e6fd60",
   "metadata": {},
   "source": [
    "# Generalisation at Group Level"
   ]
  },
  {
   "cell_type": "code",
   "execution_count": 232,
   "id": "6f5505d3",
   "metadata": {},
   "outputs": [],
   "source": [
    "group = nn.LSTM(input_size=4,hidden_size=4,num_layers=4,batch_first=True)\n",
    "loss_function = torch.nn.MSELoss()\n",
    "optimizer = torch.optim.AdamW(group.parameters(), lr=0.02)\n",
    "group.train()\n",
    "\n",
    "inputs_group_A = torch.tensor(df['current_state'].values.tolist())\n",
    "targets_group_A = torch.tensor(df['next_state'].values.tolist())"
   ]
  },
  {
   "cell_type": "code",
   "execution_count": 233,
   "id": "bb182afb",
   "metadata": {},
   "outputs": [
    {
     "data": {
      "text/plain": [
       "tensor([[0.0000, 0.8000, 0.1000, 0.1000],\n",
       "        [0.0000, 0.7000, 0.2000, 0.1000],\n",
       "        [0.0000, 0.6000, 0.2000, 0.2000],\n",
       "        [0.0000, 0.5000, 0.2000, 0.3000],\n",
       "        [0.0000, 0.4000, 0.3000, 0.3000]])"
      ]
     },
     "execution_count": 233,
     "metadata": {},
     "output_type": "execute_result"
    }
   ],
   "source": [
    "inputs_group_A"
   ]
  },
  {
   "cell_type": "code",
   "execution_count": 234,
   "id": "b719e064",
   "metadata": {},
   "outputs": [
    {
     "data": {
      "text/plain": [
       "tensor([[0.0000, 0.7000, 0.2000, 0.1000],\n",
       "        [0.0000, 0.6000, 0.2000, 0.2000],\n",
       "        [0.0000, 0.5000, 0.2000, 0.3000],\n",
       "        [0.0000, 0.4000, 0.3000, 0.3000],\n",
       "        [0.0000, 0.2000, 0.3000, 0.5000]])"
      ]
     },
     "execution_count": 234,
     "metadata": {},
     "output_type": "execute_result"
    }
   ],
   "source": [
    "targets_group_A"
   ]
  },
  {
   "cell_type": "code",
   "execution_count": 258,
   "id": "ae5c4040",
   "metadata": {},
   "outputs": [
    {
     "name": "stdout",
     "output_type": "stream",
     "text": [
      "0.1479625403881073\n",
      "0.12653174996376038\n",
      "0.10725084692239761\n",
      "0.09027619659900665\n",
      "0.07606229186058044\n",
      "0.0647188350558281\n",
      "0.05624906346201897\n",
      "0.05033007264137268\n",
      "0.04627736285328865\n",
      "0.04340410977602005\n"
     ]
    }
   ],
   "source": [
    "step = 0\n",
    "for epoch in range(10):\n",
    "    output, (h,c) = group(inputs_group_A)\n",
    "    loss = loss_function(output,targets_group_A)\n",
    "    optimizer.zero_grad()\n",
    "    loss.backward()\n",
    "    optimizer.step()\n",
    "    print(loss.item())\n",
    "\n",
    "# Save model\n",
    "# Torch.save(group.state_dict(),'group_type_A.pth')\n",
    "# Repeat the same saving process"
   ]
  },
  {
   "cell_type": "markdown",
   "id": "15df4565",
   "metadata": {},
   "source": [
    "# Generalisation At Struct Level"
   ]
  },
  {
   "cell_type": "code",
   "execution_count": 272,
   "id": "1fc20053",
   "metadata": {},
   "outputs": [
    {
     "data": {
      "text/plain": [
       "LSTM(4, 4, num_layers=4, batch_first=True)"
      ]
     },
     "execution_count": 272,
     "metadata": {},
     "output_type": "execute_result"
    }
   ],
   "source": [
    "struct = nn.LSTM(input_size=4,hidden_size=4,num_layers=4,batch_first=True)\n",
    "loss_function = torch.nn.MSELoss()\n",
    "optimizer = torch.optim.AdamW(struct.parameters(), lr=0.02)\n",
    "struct.train()"
   ]
  },
  {
   "cell_type": "code",
   "execution_count": 273,
   "id": "281ba1e5",
   "metadata": {},
   "outputs": [],
   "source": [
    "input_structure_A = [inputs_group_A,inputs_group_A,inputs_group_A,inputs_group_A]\n",
    "target_structure_A = [targets_group_A,targets_group_A,targets_group_A,targets_group_A]\n",
    "input_structure_A = torch.stack(input_structure_A)\n",
    "target_structure_A = torch.stack(target_structure_A)"
   ]
  },
  {
   "cell_type": "code",
   "execution_count": 274,
   "id": "ed83f993",
   "metadata": {},
   "outputs": [
    {
     "data": {
      "text/plain": [
       "tensor([[[0.0000, 0.8000, 0.1000, 0.1000],\n",
       "         [0.0000, 0.7000, 0.2000, 0.1000],\n",
       "         [0.0000, 0.6000, 0.2000, 0.2000],\n",
       "         [0.0000, 0.5000, 0.2000, 0.3000],\n",
       "         [0.0000, 0.4000, 0.3000, 0.3000]],\n",
       "\n",
       "        [[0.0000, 0.8000, 0.1000, 0.1000],\n",
       "         [0.0000, 0.7000, 0.2000, 0.1000],\n",
       "         [0.0000, 0.6000, 0.2000, 0.2000],\n",
       "         [0.0000, 0.5000, 0.2000, 0.3000],\n",
       "         [0.0000, 0.4000, 0.3000, 0.3000]],\n",
       "\n",
       "        [[0.0000, 0.8000, 0.1000, 0.1000],\n",
       "         [0.0000, 0.7000, 0.2000, 0.1000],\n",
       "         [0.0000, 0.6000, 0.2000, 0.2000],\n",
       "         [0.0000, 0.5000, 0.2000, 0.3000],\n",
       "         [0.0000, 0.4000, 0.3000, 0.3000]],\n",
       "\n",
       "        [[0.0000, 0.8000, 0.1000, 0.1000],\n",
       "         [0.0000, 0.7000, 0.2000, 0.1000],\n",
       "         [0.0000, 0.6000, 0.2000, 0.2000],\n",
       "         [0.0000, 0.5000, 0.2000, 0.3000],\n",
       "         [0.0000, 0.4000, 0.3000, 0.3000]]])"
      ]
     },
     "execution_count": 274,
     "metadata": {},
     "output_type": "execute_result"
    }
   ],
   "source": [
    "input_structure_A"
   ]
  },
  {
   "cell_type": "code",
   "execution_count": 276,
   "id": "2774dbc8",
   "metadata": {},
   "outputs": [
    {
     "name": "stdout",
     "output_type": "stream",
     "text": [
      "0.09143637865781784\n",
      "0.07891888171434402\n",
      "0.06808613240718842\n",
      "0.058878619223833084\n",
      "0.051082588732242584\n",
      "0.044479988515377045\n",
      "0.038846008479595184\n",
      "0.034010179340839386\n",
      "0.02987174689769745\n",
      "0.026354685425758362\n"
     ]
    }
   ],
   "source": [
    "step = 0\n",
    "for epoch in range(10):\n",
    "    output, (h,c) = struct(input_structure_A)\n",
    "    loss = loss_function(output,target_structure_A)\n",
    "    optimizer.zero_grad()\n",
    "    loss.backward()\n",
    "    optimizer.step()\n",
    "    print(loss.item())"
   ]
  },
  {
   "cell_type": "code",
   "execution_count": 271,
   "id": "de33a881",
   "metadata": {},
   "outputs": [],
   "source": [
    "# Save model for each structure\n",
    "# Torch.save(struct.state_dict(),'struct_123123.pth')\n",
    "# save long term and short term"
   ]
  },
  {
   "cell_type": "markdown",
   "id": "3a42e7ba",
   "metadata": {},
   "source": [
    "# Generalisation At City, State, Country Level"
   ]
  },
  {
   "cell_type": "code",
   "execution_count": 2,
   "id": "42b27fa7",
   "metadata": {},
   "outputs": [],
   "source": [
    "# just dont change the structure datatable\n",
    "# city_input = [input_structure_A, input_structure_B, input_structure_C]\n",
    "# city_target = [target_structure_A, target_structure_B, target_structure_C]\n",
    "# Rinse and repeat\n",
    "# There, my vision!"
   ]
  },
  {
   "cell_type": "code",
   "execution_count": null,
   "id": "af35c3c1",
   "metadata": {},
   "outputs": [],
   "source": []
  }
 ],
 "metadata": {
  "kernelspec": {
   "display_name": "Python 3 (ipykernel)",
   "language": "python",
   "name": "python3"
  },
  "language_info": {
   "codemirror_mode": {
    "name": "ipython",
    "version": 3
   },
   "file_extension": ".py",
   "mimetype": "text/x-python",
   "name": "python",
   "nbconvert_exporter": "python",
   "pygments_lexer": "ipython3",
   "version": "3.10.4"
  }
 },
 "nbformat": 4,
 "nbformat_minor": 5
}

{
  "nbformat": 4,
  "nbformat_minor": 0,
  "metadata": {
    "colab": {
      "name": "Untitled0.ipynb",
      "provenance": [],
      "authorship_tag": "ABX9TyOVV+zxepa7YkXn1cEx9sG6",
      "include_colab_link": true
    },
    "kernelspec": {
      "name": "python3",
      "display_name": "Python 3"
    },
    "language_info": {
      "name": "python"
    }
  },
  "cells": [
    {
      "cell_type": "markdown",
      "metadata": {
        "id": "view-in-github",
        "colab_type": "text"
      },
      "source": [
        "<a href=\"https://colab.research.google.com/github/dentadelta/123/blob/master/Finetune_mdetr.ipynb\" target=\"_parent\"><img src=\"https://colab.research.google.com/assets/colab-badge.svg\" alt=\"Open In Colab\"/></a>"
      ]
    },
    {
      "cell_type": "code",
      "metadata": {
        "id": "ckRtnm0Z8zAa"
      },
      "source": [
        "#Install the required library package\n",
        "%%capture\n",
        "!pip install timm transformers\n",
        "!git clone https://github.com/ashkamath/mdetr.git"
      ],
      "execution_count": 5,
      "outputs": []
    },
    {
      "cell_type": "code",
      "metadata": {
        "id": "eEfML5nA86oy"
      },
      "source": [
        "#Load the library\n",
        "import os\n",
        "os.chdir('/content/mdetr')\n",
        "import torch\n",
        "from hubconf import *\n",
        "from models.mdetr import MDETR, SetCriterion, ContrastiveCriterion, QACriterionGQA\n",
        "from models.matcher import HungarianMatcher\n",
        "from timm.models import create_model\n",
        "from models.backbone import *\n",
        "from models.transformer import Transformer\n",
        "from models.position_encoding import build_position_encoding"
      ],
      "execution_count": 6,
      "outputs": []
    },
    {
      "cell_type": "code",
      "metadata": {
        "id": "MZS-tqMT9A6f"
      },
      "source": [
        "#"
      ],
      "execution_count": null,
      "outputs": []
    }
  ]
}
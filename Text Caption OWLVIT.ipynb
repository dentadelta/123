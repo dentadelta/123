{
 "cells": [
  {
   "cell_type": "code",
   "execution_count": 14,
   "id": "a49a4196",
   "metadata": {},
   "outputs": [],
   "source": [
    "import pandas as pd\n",
    "import matplotlib.pyplot as plt\n",
    "from PIL import Image,ImageDraw,ImageFont\n",
    "from ast import literal_eval\n",
    "import numpy as np\n",
    "from IPython.display import Video\n",
    "import cv2\n",
    "import torch\n",
    "from transformers import OwlViTProcessor, OwlViTForObjectDetection\n",
    "device = torch.device('cuda' if torch.cuda.is_available() else 'cpu')\n",
    "import warnings\n",
    "warnings.filterwarnings('ignore')\n",
    "import glob\n",
    "from pathlib import Path\n",
    "import os"
   ]
  },
  {
   "cell_type": "code",
   "execution_count": 15,
   "id": "fc8ff1ac",
   "metadata": {},
   "outputs": [],
   "source": [
    "query='photo of man, a bicycle, a red car driving ver fast, a traffic light'"
   ]
  },
  {
   "cell_type": "code",
   "execution_count": 16,
   "id": "e860dcd9",
   "metadata": {},
   "outputs": [],
   "source": [
    "#HASNT FINETUNE, MUCH LIKE VANILA, PERFORMANCE WILL SIGNIFICANTLY IMPROVED"
   ]
  },
  {
   "cell_type": "code",
   "execution_count": 17,
   "id": "785b91d1",
   "metadata": {
    "scrolled": false
   },
   "outputs": [
    {
     "name": "stdout",
     "output_type": "stream",
     "text": [
      "Memory used 10.829 GB\n",
      "done\n",
      "['a traffic light', 'a bicycle', 'photo of man', 'a red car driving ver fast']\n"
     ]
    },
    {
     "data": {
      "image/png": "[encoded data removed]",
      "text/plain": [
       "<Figure size 432x288 with 1 Axes>"
      ]
     },
     "metadata": {
      "needs_background": "light"
     },
     "output_type": "display_data"
    }
   ],
   "source": [
    "image_path='PATH_TO_YOUR_EXTRACT_VIDEO_FOLDER'\n",
    "START_DISTANCE=0.0\n",
    "END_DISTANCE=0.16\n",
    "\n",
    "query = '\"' + query + '\"'\n",
    "image_path = '\"' + image_path + '\"'\n",
    "os.system(f'python createVIDEOf.py {image_path} {query} {START_DISTANCE} {END_DISTANCE}')\n",
    "def plotHistogram(label,lower_limit = 0.0025, limit=0.1,binsize=100):\n",
    "    ds = df_label.get_group(label)\n",
    "    ds_scores = ds['score'].to_numpy()\n",
    "    ds_scores = ds_scores[ds_scores < limit]\n",
    "    ds_scores = ds_scores[ds_scores >lower_limit]\n",
    "    return plt.hist(ds_scores,density=True, bins=binsize)\n",
    "df = pd.read_csv('dvr.csv')\n",
    "df.sort_values(by='image_path')\n",
    "df_label = df.groupby('label')\n",
    "list_of_labels = df['label'].unique().tolist()\n",
    "print(list_of_labels)\n",
    "for l in list_of_labels:\n",
    "    _ = plotHistogram(l,0.02,1)"
   ]
  },
  {
   "cell_type": "code",
   "execution_count": 18,
   "id": "bde900f4",
   "metadata": {},
   "outputs": [],
   "source": [
    " #The higher this number the lesss object it will return\n",
    "\n",
    "cut_off_point = {}\n",
    "for l in list_of_labels:\n",
    "    cut_off_point[l] = 0.05"
   ]
  },
  {
   "cell_type": "code",
   "execution_count": 20,
   "id": "017d96bb",
   "metadata": {},
   "outputs": [
    {
     "name": "stderr",
     "output_type": "stream",
     "text": [
      "OpenCV: FFMPEG: tag 0x5634504d/'MP4V' is not supported with codec id 12 and format 'mp4 / MP4 (MPEG-4 Part 14)'\n",
      "OpenCV: FFMPEG: fallback to use tag 0x7634706d/'mp4v'\n"
     ]
    }
   ],
   "source": [
    "color_dict = {}\n",
    "for l in list_of_labels:\n",
    "    color_dict[l] = (np.random.randint(256), np.random.randint(256), np.random.randint(256))\n",
    "color_dict[list(color_dict.keys())[0]] = 'red'\n",
    "\n",
    "\n",
    "w,h = Image.open(df['image_path'].values[0]).size\n",
    "out = cv2.VideoWriter(f'{query}.mp4',cv2.VideoWriter_fourcc(*'MP4V'),1, (w,h))\n",
    "font = ImageFont.load_default()\n",
    "for image,g in df.groupby('image_path'):\n",
    "    contain_label = False\n",
    "    image = Image.open(image)\n",
    "    draw = ImageDraw.Draw(image)\n",
    "    label = g['label'].tolist()\n",
    "    \n",
    "    for nn,gg in g.groupby('label'):\n",
    "        score = gg['score'].tolist()\n",
    "        box = gg['box'].tolist()\n",
    "        for b,s in zip(box,score):\n",
    "            if s > cut_off_point[nn]:\n",
    "                b = literal_eval(b)\n",
    "                draw.rectangle(b, outline=color_dict[nn])\n",
    "                draw.text(b[:2],nn,color_dict[nn])\n",
    "    i = 0\n",
    "    draw.rectangle((10,50,140,50+20*len(list_of_labels)),fill='white')\n",
    "    for l in list_of_labels:\n",
    "        draw.text((10,50+20*i),l,color_dict[l])\n",
    "        i += 1\n",
    "    image = np.array(image)\n",
    "    image = cv2.cvtColor(image, cv2.COLOR_RGB2BGR)\n",
    "    out.write(image)\n",
    "out.release() "
   ]
  },
  {
   "cell_type": "code",
   "execution_count": 1,
   "id": "80d2bc4d",
   "metadata": {},
   "outputs": [],
   "source": [
    "#The above code will create a video"
   ]
  },
  {
   "cell_type": "code",
   "execution_count": null,
   "id": "4b432f2d",
   "metadata": {},
   "outputs": [],
   "source": []
  }
 ],
 "metadata": {
  "kernelspec": {
   "display_name": "Python 3 (ipykernel)",
   "language": "python",
   "name": "python3"
  },
  "language_info": {
   "codemirror_mode": {
    "name": "ipython",
    "version": 3
   },
   "file_extension": ".py",
   "mimetype": "text/x-python",
   "name": "python",
   "nbconvert_exporter": "python",
   "pygments_lexer": "ipython3",
   "version": "3.10.4"
  }
 },
 "nbformat": 4,
 "nbformat_minor": 5
}

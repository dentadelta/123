{
  "nbformat": 4,
  "nbformat_minor": 0,
  "metadata": {
    "colab": {
      "name": "Untitled9.ipynb",
      "provenance": [],
      "authorship_tag": "ABX9TyMcitKc/D/Gufqp/8nrwMOo"
    },
    "kernelspec": {
      "name": "python3",
      "display_name": "Python 3"
    },
    "language_info": {
      "name": "python"
    }
  },
  "cells": [
    {
      "cell_type": "code",
      "metadata": {
        "id": "j4eGIp0chZvn"
      },
      "source": [
        "%%capture\n",
        "!pip install flask-ngrok\n",
        "!pip install elasticsearch"
      ],
      "execution_count": 27,
      "outputs": []
    },
    {
      "cell_type": "code",
      "metadata": {
        "id": "o-rxp7i1lYqn"
      },
      "source": [
        "from google.colab.output import eval_js\n",
        "from flask import Flask, render_template, request\n",
        "from flask_ngrok import run_with_ngrok\n",
        "from elasticsearch import Elasticsearch\n",
        "import urllib.request\n",
        "app = Flask(__name__)\n",
        "run_with_ngrok(app) \n",
        "\n",
        "Website = \"https://www2.asx.com.au/\"\n",
        "\n",
        "@app.route('/')\n",
        "def home():\n",
        "    fp = urllib.request.urlopen(Website)\n",
        "    mybytes = fp.read()\n",
        "    mystr = mybytes.decode(\"utf8\")   \n",
        "    return mystr\n",
        "\n",
        "\n",
        "print(eval_js(\"google.colab.kernel.proxyPort(5000)\"))\n",
        "app.run()"
      ],
      "execution_count": 40,
      "outputs": []
    },
    {
      "cell_type": "code",
      "metadata": {
        "id": "d86HPlzFhd5A"
      },
      "source": [
        ""
      ],
      "execution_count": 27,
      "outputs": []
    },
    {
      "cell_type": "code",
      "metadata": {
        "id": "glWGJ7PphyPz"
      },
      "source": [
        ""
      ],
      "execution_count": 25,
      "outputs": []
    },
    {
      "cell_type": "code",
      "metadata": {
        "id": "mc_ooDsfoC58"
      },
      "source": [
        ""
      ],
      "execution_count": null,
      "outputs": []
    }
  ]
}
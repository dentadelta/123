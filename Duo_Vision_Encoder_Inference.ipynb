{
 "cells": [
  {
   "cell_type": "code",
   "execution_count": 1,
   "id": "f1590191",
   "metadata": {},
   "outputs": [],
   "source": [
    "from transformers import VisionTextDualEncoderModel,VisionTextDualEncoderProcessor,ViTFeatureExtractor,BertTokenizer\n",
    "from PIL import Image\n",
    "import torch\n",
    "from pathlib import Path\n",
    "import pandas as pd\n",
    "import random\n",
    "from torch.utils.data import Dataset, DataLoader\n",
    "import gc\n",
    "import matplotlib.pyplot as plt"
   ]
  },
  {
   "cell_type": "code",
   "execution_count": 2,
   "id": "b8ae160e",
   "metadata": {},
   "outputs": [],
   "source": [
    "%%capture\n",
    "device = 'cuda' if torch.cuda.is_available() else 'cpu'\n",
    "if Path('duo_constrated_tokenizer').exists() and Path('duo_constrated_model').exists() and Path('duo_constrated_feature_extractor').exists():\n",
    "    tokenizer = BertTokenizer.from_pretrained('duo_constrated_tokenizer')\n",
    "    feature_extractor = ViTFeatureExtractor.from_pretrained('duo_constrated_feature_extractor')\n",
    "    processor = VisionTextDualEncoderProcessor(feature_extractor, tokenizer)\n",
    "    model = VisionTextDualEncoderModel.from_pretrained('duo_constrated_model')\n",
    "else:\n",
    "    tokenizer = BertTokenizer.from_pretrained(\"bert-base-uncased\")\n",
    "    feature_extractor = ViTFeatureExtractor.from_pretrained(\"google/vit-base-patch16-224\")\n",
    "    processor = VisionTextDualEncoderProcessor(feature_extractor, tokenizer)\n",
    "    model = VisionTextDualEncoderModel.from_vision_text_pretrained(\"google/vit-base-patch16-224\", \"bert-base-uncased\")\n",
    "\n",
    "model.to(device)\n",
    "model.eval()"
   ]
  },
  {
   "cell_type": "code",
   "execution_count": 3,
   "id": "6e00bcd0",
   "metadata": {},
   "outputs": [],
   "source": [
    "training_data = pd.read_excel(r'/media/delta/S/trainig_data.xlsx')"
   ]
  },
  {
   "cell_type": "code",
   "execution_count": 4,
   "id": "b25dfad9",
   "metadata": {},
   "outputs": [],
   "source": [
    "class ImageData(Dataset):\n",
    "    def __init__(self,ds, feature_extractor):\n",
    "        self.images = ds['path to image'].values.tolist()\n",
    "        self.captions = ds['image caption'].values.tolist()\n",
    "        self.pixel_values = []\n",
    "        for i in self.images:\n",
    "            image = Image.open(i).convert('RGB')\n",
    "            image = feature_extractor(image, return_tensors='pt').pixel_values.to(device)\n",
    "            self.pixel_values.append(image)\n",
    "\n",
    "    def __len__(self):\n",
    "        return len(self.pixel_values)\n",
    "\n",
    "    def __getitem__(self, idx):\n",
    "        return  self.pixel_values[idx], self.images[idx], self.captions[idx]"
   ]
  },
  {
   "cell_type": "code",
   "execution_count": 5,
   "id": "50131066",
   "metadata": {},
   "outputs": [],
   "source": [
    "def collate_fn(examples):\n",
    "    pixel_values = torch.stack([example[0] for example in examples])\n",
    "    images = [example[1]for example in examples]\n",
    "    captions = [example[2]for example in examples]\n",
    "    return {\"pixel_values\": pixel_values,'image_path':images, 'captions':captions}"
   ]
  },
  {
   "cell_type": "code",
   "execution_count": 6,
   "id": "1f572efa",
   "metadata": {},
   "outputs": [],
   "source": [
    "asset_data = DataLoader(ImageData(training_data,feature_extractor),\n",
    "                        batch_size=64, shuffle=False, collate_fn=collate_fn)"
   ]
  },
  {
   "cell_type": "code",
   "execution_count": 7,
   "id": "6e9fcb70",
   "metadata": {},
   "outputs": [],
   "source": [
    "gc.collect()\n",
    "torch.cuda.empty_cache()"
   ]
  },
  {
   "cell_type": "code",
   "execution_count": null,
   "id": "ca95a9ba",
   "metadata": {},
   "outputs": [],
   "source": [
    "captions = 'restraint ladder is out of date'   #Search an image using your own caption\n",
    "scores = []\n",
    "image_paths = []\n",
    "caption = []\n",
    "for _, batch in enumerate(asset_data):\n",
    "    pixel_values = batch['pixel_values'].view(-1,3,224,224)\n",
    "    image_path = batch['image_path']\n",
    "    text = batch['captions']\n",
    "    inputs = tokenizer(captions,padding='max_length',return_tensors='pt',max_length=128)\n",
    "    inputs['pixel_values'] = pixel_values\n",
    "    with torch.no_grad():\n",
    "        outputs = model(**inputs.to(device))\n",
    "    logits_per_image = outputs.logits_per_image.view(-1)\n",
    "    ids = logits_per_image.argmax().unsqueeze(0).item()\n",
    "    probability = logits_per_image[ids].item()\n",
    "    image_path = image_path[ids]\n",
    "    text = text[ids]\n",
    "    image_paths.append(image_path)\n",
    "    scores.append(probability)\n",
    "    caption.append(text)\n",
    "ids = torch.topk(torch.tensor(scores),1).indices\n",
    "scores = [scores[i] for i in ids]\n",
    "image_paths  = [image_paths[ids[0]]][0]\n",
    "text = [caption[ids[0]]][0]\n",
    "print('actual_caption:',text)\n",
    "print('requested caption',captions)\n",
    "Image.open(image_paths)"
   ]
  },
  {
   "cell_type": "code",
   "execution_count": null,
   "id": "d3365dfd",
   "metadata": {},
   "outputs": [],
   "source": []
  }
 ],
 "metadata": {
  "kernelspec": {
   "display_name": "Python 3 (ipykernel)",
   "language": "python",
   "name": "python3"
  },
  "language_info": {
   "codemirror_mode": {
    "name": "ipython",
    "version": 3
   },
   "file_extension": ".py",
   "mimetype": "text/x-python",
   "name": "python",
   "nbconvert_exporter": "python",
   "pygments_lexer": "ipython3",
   "version": "3.10.4"
  }
 },
 "nbformat": 4,
 "nbformat_minor": 5
}

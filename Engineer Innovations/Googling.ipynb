{
  "cells": [
    {
      "cell_type": "code",
      "execution_count": 27,
      "metadata": {
        "id": "j4eGIp0chZvn"
      },
      "outputs": [],
      "source": [
        "%%capture\n",
        "!pip install flask-ngrok\n",
        "!pip install elasticsearch"
      ]
    },
    {
      "cell_type": "code",
      "execution_count": 40,
      "metadata": {
        "id": "o-rxp7i1lYqn"
      },
      "outputs": [],
      "source": [
        "from google.colab.output import eval_js\n",
        "from flask import Flask, render_template, request\n",
        "from flask_ngrok import run_with_ngrok\n",
        "from elasticsearch import Elasticsearch\n",
        "import urllib.request\n",
        "app = Flask(__name__)\n",
        "run_with_ngrok(app) \n",
        "\n",
        "Website = \"https://www2.asx.com.au/\"\n",
        "\n",
        "@app.route('/')\n",
        "def home():\n",
        "    fp = urllib.request.urlopen(Website)\n",
        "    mybytes = fp.read()\n",
        "    mystr = mybytes.decode(\"utf8\")   \n",
        "    return mystr\n",
        "\n",
        "\n",
        "print(eval_js(\"google.colab.kernel.proxyPort(5000)\"))\n",
        "app.run()"
      ]
    },
    {
      "cell_type": "code",
      "execution_count": 27,
      "metadata": {
        "id": "d86HPlzFhd5A"
      },
      "outputs": [],
      "source": []
    },
    {
      "cell_type": "code",
      "execution_count": 25,
      "metadata": {
        "id": "glWGJ7PphyPz"
      },
      "outputs": [],
      "source": []
    },
    {
      "cell_type": "code",
      "execution_count": null,
      "metadata": {
        "id": "mc_ooDsfoC58"
      },
      "outputs": [],
      "source": []
    }
  ],
  "metadata": {
    "colab": {
      "authorship_tag": "ABX9TyMcitKc/D/Gufqp/8nrwMOo",
      "name": "Untitled9.ipynb",
      "provenance": []
    },
    "kernelspec": {
      "display_name": "Python 3.6.9 64-bit",
      "language": "python",
      "name": "python3"
    },
    "language_info": {
      "name": "python",
      "version": "3.6.9"
    },
    "vscode": {
      "interpreter": {
        "hash": "31f2aee4e71d21fbe5cf8b01ff0e069b9275f58929596ceb00d14d90e3e16cd6"
      }
    }
  },
  "nbformat": 4,
  "nbformat_minor": 0
}
